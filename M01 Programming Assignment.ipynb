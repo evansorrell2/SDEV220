{
 "cells": [
  {
   "cell_type": "code",
   "execution_count": 5,
   "id": "21cda3d4",
   "metadata": {},
   "outputs": [
    {
     "name": "stdout",
     "output_type": "stream",
     "text": [
      "There are  3600  seconds in 1 hour.\n",
      "There are  86400  seconds in 1 day.\n",
      "24.0\n",
      "24\n"
     ]
    }
   ],
   "source": [
    "seconds_per_hour = 60 * 60\n",
    "print(\"There are \", seconds_per_hour, \" seconds in 1 hour.\")\n",
    "\n",
    "print(\"There are \", seconds_per_hour * 24, \" seconds in 1 day.\")\n",
    "\n",
    "seconds_per_day = seconds_per_hour * 24\n",
    "result = seconds_per_day / seconds_per_hour\n",
    "print(result)\n",
    "result2 = seconds_per_day // seconds_per_hour\n",
    "print(result2)"
   ]
  },
  {
   "cell_type": "code",
   "execution_count": null,
   "id": "7e59f745",
   "metadata": {},
   "outputs": [],
   "source": []
  }
 ],
 "metadata": {
  "kernelspec": {
   "display_name": "Python 3 (ipykernel)",
   "language": "python",
   "name": "python3"
  },
  "language_info": {
   "codemirror_mode": {
    "name": "ipython",
    "version": 3
   },
   "file_extension": ".py",
   "mimetype": "text/x-python",
   "name": "python",
   "nbconvert_exporter": "python",
   "pygments_lexer": "ipython3",
   "version": "3.11.5"
  }
 },
 "nbformat": 4,
 "nbformat_minor": 5
}
