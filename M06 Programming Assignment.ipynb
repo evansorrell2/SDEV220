{
 "cells": [
  {
   "cell_type": "code",
   "execution_count": 3,
   "id": "b4db1ae6",
   "metadata": {},
   "outputs": [
    {
     "data": {
      "text/plain": [
       "time.struct_time(tm_year=2024, tm_mon=2, tm_mday=25, tm_hour=0, tm_min=0, tm_sec=0, tm_wday=6, tm_yday=56, tm_isdst=-1)"
      ]
     },
     "execution_count": 3,
     "metadata": {},
     "output_type": "execute_result"
    }
   ],
   "source": [
    "#13.1 Write the current date as a string to the text file today.txt.\n",
    "#13.2 Read the text file today.txt into the string today_string.\n",
    "#13.3 Parse the date from today_string.\n",
    "\n",
    "from datetime import date\n",
    "import time\n",
    "\n",
    "file = open(\"today.txt\", \"r\")\n",
    "fmt = \"%Y-%m-%d\"\n",
    "\n",
    "today_string = file.read()\n",
    "\n",
    "time.strptime(today_string, fmt)"
   ]
  },
  {
   "cell_type": "code",
   "execution_count": 14,
   "id": "6457332a",
   "metadata": {},
   "outputs": [],
   "source": [
    "#15.1 Use multiprocessing to create three separate processes. \n",
    "# Make each one wait a random number of seconds between zero and \n",
    "# one, print the current time, and then exit.\n",
    "\n",
    "import multiprocessing\n",
    "import random\n",
    "from datetime import datetime\n",
    "\n",
    "def gen(process):\n",
    "    time.sleep(randint(0,1))\n",
    "    print(\"Process %s says the current time is %s\", (os.getpid(), process))\n",
    "    \n",
    "\n",
    "for n in range(2):\n",
    "    now = datetime.now()\n",
    "    a = multiprocessing.Process(target=gen, args=(now.strftime(\"%H:%M:%S\")))\n",
    "    a.start()\n",
    "    time.sleep(5)\n",
    "    a.terminate()"
   ]
  },
  {
   "cell_type": "code",
   "execution_count": 11,
   "id": "a84d31b9",
   "metadata": {},
   "outputs": [
    {
     "name": "stdout",
     "output_type": "stream",
     "text": [
      "Process 4084 says: I'm the main program\n"
     ]
    }
   ],
   "source": [
    "#this is the example from the textbook I used as a basis to build my code above\n",
    "\n",
    "import multiprocessing\n",
    "import os\n",
    "\n",
    "def whoami(what):\n",
    "    print(\"Process %s says: %s\" % (os.getpid(), what))\n",
    "\n",
    "if __name__ == \"__main__\":\n",
    "    whoami(\"I'm the main program\")\n",
    "    for n in range(4):\n",
    "        p = multiprocessing.Process(target=whoami,\n",
    "          args=(\"I'm function %s\" % n,))\n",
    "        p.start()"
   ]
  }
 ],
 "metadata": {
  "kernelspec": {
   "display_name": "Python 3 (ipykernel)",
   "language": "python",
   "name": "python3"
  },
  "language_info": {
   "codemirror_mode": {
    "name": "ipython",
    "version": 3
   },
   "file_extension": ".py",
   "mimetype": "text/x-python",
   "name": "python",
   "nbconvert_exporter": "python",
   "pygments_lexer": "ipython3",
   "version": "3.11.5"
  }
 },
 "nbformat": 4,
 "nbformat_minor": 5
}
