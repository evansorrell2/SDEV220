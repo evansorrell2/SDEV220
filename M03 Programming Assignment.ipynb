{
 "cells": [
  {
   "cell_type": "code",
   "execution_count": 8,
   "id": "97c3fc93",
   "metadata": {},
   "outputs": [
    {
     "name": "stdout",
     "output_type": "stream",
     "text": [
      "['mozzarella', 'cinderella', 'salmonella']\n",
      "mozzarella\n",
      "['MOZZARELLA', 'Cinderella', 'salmonella']\n",
      "['MOZZARELLA', 'Cinderella']\n"
     ]
    }
   ],
   "source": [
    "things = [\"mozzarella\", \"cinderella\", \"salmonella\"]\n",
    "things[1].replace('c', 'C')\n",
    "print(things)\n",
    "#No change in the name\n",
    "things[0].replace('mozzarella', 'MOZZARELLA')\n",
    "print(things[0])\n",
    "#still no change, replace doesn't change the value\n",
    "things[1] = things[1].replace('c', 'C')\n",
    "things[0] = things[0].replace('mozzarella', 'MOZZARELLA')\n",
    "print(things)\n",
    "del things[-1]\n",
    "print(things)\n"
   ]
  },
  {
   "cell_type": "code",
   "execution_count": 28,
   "id": "53373a57",
   "metadata": {},
   "outputs": [
    {
     "name": "stdout",
     "output_type": "stream",
     "text": [
      "5\n"
     ]
    }
   ],
   "source": [
    "def good():\n",
    "    return ['Harry', 'Ron', 'Hermione']\n",
    "\n",
    "def get_odds():\n",
    "    for num in range(10):\n",
    "        if (num % 2 != 0):\n",
    "            yield num\n",
    "            \n",
    "odds = get_odds()\n",
    "counter = 0\n",
    "\n",
    "for num in odds:\n",
    "    if counter == 2:\n",
    "        print(num)\n",
    "    counter += 1\n",
    "        "
   ]
  },
  {
   "cell_type": "code",
   "execution_count": null,
   "id": "ba04c35c",
   "metadata": {},
   "outputs": [],
   "source": []
  }
 ],
 "metadata": {
  "kernelspec": {
   "display_name": "Python 3 (ipykernel)",
   "language": "python",
   "name": "python3"
  },
  "language_info": {
   "codemirror_mode": {
    "name": "ipython",
    "version": 3
   },
   "file_extension": ".py",
   "mimetype": "text/x-python",
   "name": "python",
   "nbconvert_exporter": "python",
   "pygments_lexer": "ipython3",
   "version": "3.11.5"
  }
 },
 "nbformat": 4,
 "nbformat_minor": 5
}
