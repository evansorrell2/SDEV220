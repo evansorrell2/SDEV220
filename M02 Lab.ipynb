{
 "cells": [
  {
   "cell_type": "code",
   "execution_count": 3,
   "id": "0170e233",
   "metadata": {},
   "outputs": [
    {
     "name": "stdout",
     "output_type": "stream",
     "text": [
      "Enter the student's last name or 'ZZZ' to quit:S\n",
      "Enter the student's first name:E\n",
      "Enter the student's GPA (enter the value as a float):3.52\n",
      "The student made the Dean's List.\n",
      "Enter the student's last name or 'ZZZ' to quit:O\n",
      "Enter the student's first name:V\n",
      "Enter the student's GPA (enter the value as a float):3\n",
      "Enter the student's last name or 'ZZZ' to quit:R\n",
      "Enter the student's first name:A\n",
      "Enter the student's GPA (enter the value as a float):2.9\n",
      "Enter the student's last name or 'ZZZ' to quit:R\n",
      "Enter the student's first name:N\n",
      "Enter the student's GPA (enter the value as a float):3.26\n",
      "The student made the Honor Roll.\n",
      "Enter the student's last name or 'ZZZ' to quit:E\n",
      "Enter the student's first name:N\n",
      "Enter the student's GPA (enter the value as a float):3.9\n",
      "The student made the Dean's List.\n"
     ]
    }
   ],
   "source": [
    "#Evan Sorrell\n",
    "#StudentQualifications.py\n",
    "#This program asks the user to enter in a last name, a first name and a GPA of a student and reports if the student made honor roll or the Dean's list. It repeats this process 5 times.\n",
    "\n",
    "def studentQualifications():\n",
    "    studentArray = []\n",
    "    while len(studentArray) < 5:\n",
    "        name = input(\"Enter the student's last name or 'ZZZ' to quit:\")\n",
    "        if (name == \"ZZZ\"):\n",
    "            break\n",
    "        firstName = input(\"Enter the student's first name:\")\n",
    "        gpa = input(\"Enter the student's GPA (enter the value as a float):\")\n",
    "        if (float(gpa) >= 3.5):\n",
    "            print(\"The student made the Dean's List.\")\n",
    "        elif (float(gpa) >= 3.25):\n",
    "            print(\"The student made the Honor Roll.\")\n",
    "        student = [name, firstName, gpa]\n",
    "        studentArray.append(student)\n",
    "studentQualifications()"
   ]
  },
  {
   "cell_type": "code",
   "execution_count": null,
   "id": "2bd5c235",
   "metadata": {},
   "outputs": [],
   "source": []
  },
  {
   "cell_type": "code",
   "execution_count": null,
   "id": "7b3b9e4d",
   "metadata": {},
   "outputs": [],
   "source": []
  }
 ],
 "metadata": {
  "kernelspec": {
   "display_name": "Python 3 (ipykernel)",
   "language": "python",
   "name": "python3"
  },
  "language_info": {
   "codemirror_mode": {
    "name": "ipython",
    "version": 3
   },
   "file_extension": ".py",
   "mimetype": "text/x-python",
   "name": "python",
   "nbconvert_exporter": "python",
   "pygments_lexer": "ipython3",
   "version": "3.11.5"
  }
 },
 "nbformat": 4,
 "nbformat_minor": 5
}
