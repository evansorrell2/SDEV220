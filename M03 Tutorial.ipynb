{
 "cells": [
  {
   "cell_type": "code",
   "execution_count": 1,
   "id": "abeb574c",
   "metadata": {},
   "outputs": [],
   "source": [
    "class Solution:\n",
    "    def sort012(self,arr,n):\n",
    "        solutionArray = []\n",
    "        for num in arr:\n",
    "            if num == 0:\n",
    "                solutionArray.append(num)\n",
    "        for num in arr:\n",
    "            if num == 1:\n",
    "                solutionArray.append(num)\n",
    "        for num in arr:\n",
    "            if num == 2:\n",
    "                solutionArray.append(num)\n",
    "        count = 0\n",
    "        for num in arr:\n",
    "            arr[count] = solutionArray[count]\n",
    "            count += 1"
   ]
  },
  {
   "cell_type": "code",
   "execution_count": null,
   "id": "23437dfc",
   "metadata": {},
   "outputs": [],
   "source": [
    "class Solution:\t\n",
    "    def binarysearch(self, arr, n, k):\n",
    "        count = 0\n",
    "        for num in arr:\n",
    "            if num == k:\n",
    "                return count\n",
    "            else:\n",
    "                count += 1\n",
    "        return -1"
   ]
  }
 ],
 "metadata": {
  "kernelspec": {
   "display_name": "Python 3 (ipykernel)",
   "language": "python",
   "name": "python3"
  },
  "language_info": {
   "codemirror_mode": {
    "name": "ipython",
    "version": 3
   },
   "file_extension": ".py",
   "mimetype": "text/x-python",
   "name": "python",
   "nbconvert_exporter": "python",
   "pygments_lexer": "ipython3",
   "version": "3.11.5"
  }
 },
 "nbformat": 4,
 "nbformat_minor": 5
}
