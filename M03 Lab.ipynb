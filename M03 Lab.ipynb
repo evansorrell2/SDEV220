{
 "cells": [
  {
   "cell_type": "code",
   "execution_count": 7,
   "id": "2a616d7e",
   "metadata": {},
   "outputs": [
    {
     "name": "stdout",
     "output_type": "stream",
     "text": [
      "Enter vehicle type: Car\n",
      "Car\n",
      "Enter the year of the vehicle: 2013\n",
      "Enter the make of the vehicle: Ford\n",
      "Enter the model of the vehicle: Flex\n",
      "Enter the number of doors the vehicle has: 4\n",
      "Enter the type of roof the vehicle has: Sun\n",
      "Vehicle Type:  Car \n",
      "Year:  2013 \n",
      "Make:  Ford \n",
      "Model:  Flex \n",
      "Number of Doors:  4 \n",
      "Type of roof:  Sun\n"
     ]
    }
   ],
   "source": [
    "class Vehicle:\n",
    "    def __init__(self, vehicleType):\n",
    "        self.vehicleType = vehicleType\n",
    "        \n",
    "        \n",
    "class Automobile(Vehicle):\n",
    "    def __init__(self, vehicleType, year, make, model, doors, roof):\n",
    "        self.vehicleType = vehicleType\n",
    "        self.year = year\n",
    "        self.make = make\n",
    "        self.model = model\n",
    "        self.doors = doors\n",
    "        self.roof = roof\n",
    "      \n",
    "def labMain():\n",
    "    userCar = Vehicle(input(\"Enter vehicle type: \"))\n",
    "    print(userCar.vehicleType)\n",
    "    year = input(\"Enter the year of the vehicle: \")\n",
    "    make = input(\"Enter the make of the vehicle: \")\n",
    "    model = input(\"Enter the model of the vehicle: \")\n",
    "    doors = input(\"Enter the number of doors the vehicle has: \")\n",
    "    roof = input(\"Enter the type of roof the vehicle has: \")\n",
    "    userCar = Automobile(userCar.vehicleType, year, make, model, doors, roof)\n",
    "    \n",
    "    print(\"Vehicle Type: \", userCar.vehicleType, \n",
    "          \"\\nYear: \", userCar.year,\n",
    "          \"\\nMake: \", userCar.make,\n",
    "          \"\\nModel: \", userCar.model,\n",
    "          \"\\nNumber of Doors: \", userCar.doors,\n",
    "          \"\\nType of roof: \", userCar.roof)\n",
    "\n",
    "labMain()"
   ]
  }
 ],
 "metadata": {
  "kernelspec": {
   "display_name": "Python 3 (ipykernel)",
   "language": "python",
   "name": "python3"
  },
  "language_info": {
   "codemirror_mode": {
    "name": "ipython",
    "version": 3
   },
   "file_extension": ".py",
   "mimetype": "text/x-python",
   "name": "python",
   "nbconvert_exporter": "python",
   "pygments_lexer": "ipython3",
   "version": "3.11.5"
  }
 },
 "nbformat": 4,
 "nbformat_minor": 5
}
